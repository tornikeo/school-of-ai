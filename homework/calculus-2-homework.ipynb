{
 "cells": [
  {
   "cell_type": "code",
   "execution_count": null,
   "metadata": {},
   "outputs": [],
   "source": [
    "%load_ext autoreload\n",
    "%autoreload 2\n",
    "\n",
    "%matplotlib inline"
   ]
  },
  {
   "cell_type": "markdown",
   "metadata": {},
   "source": [
    "## Basic setup"
   ]
  },
  {
   "cell_type": "markdown",
   "metadata": {},
   "source": [
    "Create anaconda environment\n",
    "<br>\n",
    "```bash\n",
    "conda create -n ml python=3.7.4 jupyter\n",
    "```\n",
    "Install fastai library\n",
    "<br>\n",
    "```bash\n",
    "conda install -c pytorch -c fastai fastai\n",
    "```"
   ]
  },
  {
   "cell_type": "markdown",
   "metadata": {},
   "source": [
    "# Derivatives"
   ]
  },
  {
   "cell_type": "markdown",
   "metadata": {},
   "source": [
    "#### Example:\n",
    "$$f(x,y) = \\begin{cases}x & \\text{if }y \\ne x^2 \\\\ 0 & \\text{if }y = x^2\\end{cases}$$"
   ]
  },
  {
   "cell_type": "markdown",
   "metadata": {},
   "source": [
    "#### Derivative w.r.t $x$\n",
    "Exists and is equal to $\\lim_{h\\to 0} \\frac{f(x+h,0)-f(x,0)}{h} = \\lim_{h\\to 0} \\frac{f(h,0)-f(0,0)}{h} = 1$\n",
    "#### Derivative w.r.t $y$\n",
    "Exists and is equal to $\\lim_{h\\to 0} \\frac{f(0,y+h)-f(0,y)}{h} = \\lim_{h\\to 0} \\frac{0-0}{h} = 0$\n",
    "\n",
    "#### Differentiable?\n",
    "No, as partial derivatives are not equal"
   ]
  },
  {
   "cell_type": "markdown",
   "metadata": {},
   "source": [
    "#### Example:\n",
    "$$f(x,y) = \\begin{cases}y^3/(x^2+y^2) & \\text{if }(x,y) \\ne (0,0) \\\\ 0 & \\text{if }(x,y) = (0,0)\\end{cases}$$"
   ]
  },
  {
   "cell_type": "markdown",
   "metadata": {},
   "source": [
    "#### Converting to Polar coordinates\n",
    "\n",
    "$$ x = r \\cos(\\theta), y = r\\sin(\\theta).  $$\n",
    "$$f(r,\\theta) = \\begin{cases}\\frac{ r^3\\sin^3(\\theta)}{r^2} & r \\gt 0 \\\\ 0 & r = 0  \\end{cases} = \\begin{cases} r\\sin^3(\\theta) & r \\gt 0 \\\\ 0 & r = 0  \\end{cases} $$\n",
    "The derivative therefore is,\n",
    "$$ \\frac{\\partial f}{\\partial r} = \\lim_{h\\to 0}\\frac{(r+h-r)\\sin^3(\\theta)}{h} = \\lim_{h\\to 0} \\sin^3(\\theta)$$<br>\n",
    "As we can see, derivative is different depenting on $\\theta$ <br>\n",
    "Consider cases where $\\theta = \\{\\frac{\\pi}{2}, -\\frac{\\pi}{2}\\}$. The derivative is not equal at these points and therefore is not continuous at $(0,0)$"
   ]
  }
 ],
 "metadata": {
  "kernelspec": {
   "display_name": "Python 3",
   "language": "python",
   "name": "python3"
  },
  "language_info": {
   "codemirror_mode": {
    "name": "ipython",
    "version": 3
   },
   "file_extension": ".py",
   "mimetype": "text/x-python",
   "name": "python",
   "nbconvert_exporter": "python",
   "pygments_lexer": "ipython3",
   "version": "3.7.4"
  }
 },
 "nbformat": 4,
 "nbformat_minor": 4
}
