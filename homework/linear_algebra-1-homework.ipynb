{
 "cells": [
  {
   "cell_type": "code",
   "execution_count": 1,
   "metadata": {},
   "outputs": [],
   "source": [
    "%load_ext autoreload\n",
    "%autoreload 2\n",
    "\n",
    "%matplotlib inline"
   ]
  },
  {
   "cell_type": "markdown",
   "metadata": {},
   "source": [
    "## Basic setup"
   ]
  },
  {
   "cell_type": "markdown",
   "metadata": {},
   "source": [
    "Create anaconda environment\n",
    "<br>\n",
    "```bash\n",
    "conda create -n ml python=3.7.4 jupyter\n",
    "```\n",
    "Install fastai library\n",
    "<br>\n",
    "```bash\n",
    "conda install -c pytorch -c fastai fastai\n",
    "```"
   ]
  },
  {
   "cell_type": "markdown",
   "metadata": {},
   "source": [
    "# Set theory basics"
   ]
  },
  {
   "cell_type": "markdown",
   "metadata": {},
   "source": [
    "#### Prove that:\n",
    "<br>\n",
    "$A \\subseteq A$\n",
    "\n",
    "#### proof:\n",
    "<br>\n",
    "$A \\subseteq A \\implies \\forall x: (x \\in A \\implies x \\in A) $, \n",
    "<br>\n",
    "which is true by the law of identity.\n"
   ]
  },
  {
   "cell_type": "markdown",
   "metadata": {},
   "source": [
    "#### Prove that:\n",
    "<br>\n",
    "If $A \\subseteq B$ and $B \\subseteq A$ $\\to$ $A = B$\n",
    "\n",
    "#### proof:\n",
    "$A = B \\iff \\forall x: (x \\in A \\iff x \\in B)$\n",
    "That is, if $\\forall x: (x \\in A \\implies x \\in B \\land x \\in B \\implies x \\in A)$, which is $A \\subseteq B$ and $B \\subseteq A$"
   ]
  },
  {
   "cell_type": "markdown",
   "metadata": {},
   "source": [
    "#### Prove that:\n",
    "<br>\n",
    "if $B \\subset A$ then $A \\cap B = B$\n",
    "\n",
    "#### proof:\n",
    "$B\\subset A \\iff \\forall x :  x \\in B \\implies x \\in A$ is same as $\\forall x: x \\notin B \\lor x \\in A$<br>\n",
    "for element $x$ in $C = A\\cap B$, $\\forall x  : x \\in C \\iff x \\in A \\land x \\in B$ with previous statement means that $ true \\land x \\in B = x \\in B $, sets C and B are equal. \n",
    "\n"
   ]
  },
  {
   "cell_type": "markdown",
   "metadata": {},
   "source": [
    "#### Prove that:\n",
    "<br>\n",
    "$A \\cap B = B \\cap A$\n",
    "\n",
    "#### proof\n",
    "$A \\cap B = \\forall x : (x \\in A \\land x \\in B) = \\forall x: (x \\in B \\land x \\in A) = B \\cap A$ because conjunction is commutative."
   ]
  },
  {
   "cell_type": "markdown",
   "metadata": {},
   "source": [
    "#### Prove that:\n",
    "<br>\n",
    "if $B \\subset A$ then $A \\cup B = A$\n",
    "\n",
    "#### proof\n",
    "\n",
    "$B \\subset A \\iff \\forall x: x \\in B \\implies x \\in A \\to \\forall x: x \\notin B \\lor x \\in A$<br>\n",
    "By definition $A \\cup B \\to \\forall x : x \\in A \\lor x \\in B$.\n",
    "But every element in B is also in A.\n",
    "Therefore, $A \\cup B \\to \\forall x : x \\in A \\lor x \\in B \\to x \\in A \\land x \\in A \\to x \\in A \\to A$\n",
    "\n"
   ]
  },
  {
   "cell_type": "markdown",
   "metadata": {},
   "source": [
    "#### Prove that:\n",
    "<br>\n",
    "$A \\cup B = B \\cup A$\n",
    "\n",
    "#### proof\n",
    "$A \\cup B \\to \\forall x: (x \\in A \\lor x \\in B) \\to (x \\in B \\lor x\\in A) \\to B \\cup A$ as disjunction is commutative."
   ]
  },
  {
   "cell_type": "markdown",
   "metadata": {},
   "source": [
    "#### Prove that:\n",
    "- for every injection $m:A \\to B$ and pair of functions $f, g :C \\to A$: if $m \\circ f = m \\circ g$ then $f = g$ and vice-versa\n",
    "- for every surjection $e:A \\to B$ and every pair of functions $f, g :B \\to C$: if $f \\circ e = g \\circ e$ then $f = g$ and vice-versa\n",
    "\n",
    "#### proof\n",
    "- By definition of injective mapping $m$, $\\forall a_1, a_2 \\in A : m(a_1) = m(a_2) \\implies a_1 = a_2$\n",
    "    and $ m \\circ f = m \\circ g \\to \\forall c_1,c_2 \\in C : m(f(c_1)) = m(g(c_2))$ and therefore $\\forall c_1,c_2 \\in C : f(c_1) = g(c_2)$ that implies by definition that $f = g$\n",
    "- by definition of surjective mapping $e$, $\\forall b \\in B: \\exists a \\in A: e(a) = b$. as each $a$ is mapped to only one $b$, same $a_i$ will result in same argument $b_i$ for the functions $f$ and $g$. By definition of functional mapping, same argument produces same results, and therefore $f = g$"
   ]
  },
  {
   "cell_type": "markdown",
   "metadata": {},
   "source": [
    "#### Prove that \n",
    "- composition of injections is injection itself\n",
    "- composition of surjections is surjection itself\n",
    "- composition of bijections is bijection itself\n",
    "<br>\n",
    "or give a counterexamples\n",
    "\n",
    "#### proof\n",
    "- let $f$ and $g$ be injections $ f \\circ g(x) = f \\circ g(y)$    $ \\to f(g(x)) = f(g(y)) $, by composition of mappings    $ \\to g(x) = g(y) $, $f$ is injective $ \\to x = y $ $g$ is also injective \n",
    "- let $ f : X \\to Y $ and $ g : Y \\to Z $, Then by definition, $\\forall z \\in Z : \\exists y \\in Y : g(y) = z $ $\\to \\exists x \\in X: f(x) = y$ and by composite mapping we get  $g \\circ f(x) = g(f(x)) = g(y) = z$ the $g  \\circ f$ is surjective.\n",
    "- as bijection is by definition also injection, the composition of injections is also an injection. on the other hand, bijection is also a surjection and composition of surjections is also a surjection. The result of composition of bijections is also a surjection and injection, and therefore is a bijection. "
   ]
  },
  {
   "cell_type": "markdown",
   "metadata": {},
   "source": [
    "#### Prove that for each set $A$:\n",
    "- $A \\cong A$\n",
    "- if $B \\cong A$ then $B \\cong A$ for every pair of sets $A$ and $B$\n",
    "- if $A \\cong B$ and $B \\cong C$ then $A \\cong C$ for every triplet $A$, $B$ and $C$"
   ]
  },
  {
   "cell_type": "markdown",
   "metadata": {},
   "source": [
    "#### Prove that:\n",
    "<br>\n",
    "there exists a bijection between set of natural and even numbers\n",
    "\n",
    "#### proof\n",
    "bijection exists if we can find one:\n",
    "we define a $f: N \\to \\{ \\text{even integers} \\} $ as $$f(n) = \\begin{cases}-n & \\text{if } n \\text{ is even} \\\\ n + 1 & \\text{if } n \\text{ is odd} \\end{cases}$$"
   ]
  },
  {
   "cell_type": "markdown",
   "metadata": {},
   "source": [
    "#### Prove that:\n",
    "<br>\n",
    "if we have a bijection between two finite sets than they have an equal number of elements"
   ]
  },
  {
   "cell_type": "markdown",
   "metadata": {},
   "source": [
    "\n",
    "#### proof\n",
    "Define a bijection and take any single pair of elements out of the two sets. count the pairs. if such pair does not exist, size is zero, and sets are equal.\n",
    "repeat process until sets are empty (they will be as they are finite). As we have a bijection between the two sets, the elements will run out in them at the same time. The count now is same for both sets and is equal to the size of the sets, and it is equal to the number of elements in them."
   ]
  },
  {
   "cell_type": "markdown",
   "metadata": {},
   "source": [
    "#### Prove that:\n",
    "<br>\n",
    "$A \\times B \\cong B \\times A$"
   ]
  },
  {
   "cell_type": "markdown",
   "metadata": {},
   "source": [
    "$\\cap_{i\\in I}A_i$ and $\\cup_{i\\in I}A_i$"
   ]
  },
  {
   "cell_type": "code",
   "execution_count": 2,
   "metadata": {},
   "outputs": [],
   "source": [
    "# Inplement in python"
   ]
  },
  {
   "cell_type": "markdown",
   "metadata": {},
   "source": [
    "We can also define cartesian product of any \"number\" of sets $\\prod_{i \\in I}{A_i}$"
   ]
  },
  {
   "cell_type": "code",
   "execution_count": null,
   "metadata": {},
   "outputs": [],
   "source": [
    "# Inplement in python"
   ]
  },
  {
   "cell_type": "markdown",
   "metadata": {},
   "source": [
    "#### Prove that:\n",
    "<br>\n",
    "$$A \\cap (B \\cup C)=(A \\cap B) \\cup (A\\cap C)$$\n",
    "$$A \\cup (B \\cap C)=(A \\cup B) \\cap (A\\cup C)$$"
   ]
  },
  {
   "cell_type": "markdown",
   "metadata": {},
   "source": [
    "#### Proof\n",
    "- Right hand side is equivalent to $\\forall x : (x \\in A \\land (x \\in B \\lor x \\in C)$, by using [distributive_property_of_disjunction](https://proofwiki.org/wiki/Rule_of_Distribution/Conjunction_Distributes_over_Disjunction/Left_Distributive/Formulation_2/Proof_3) that produces $\\forall x : ((x \\in A \\land x \\in B) \\lor (x \\in A \\land x \\in C))$ Which is equivalent to the right hand side.\n",
    "- Second proof is identical."
   ]
  },
  {
   "cell_type": "markdown",
   "metadata": {},
   "source": [
    "# Linear Algebra"
   ]
  },
  {
   "cell_type": "markdown",
   "metadata": {},
   "source": [
    "#### Prove that:\n",
    "<br>\n",
    "$(AB)^{T} = B^{T}A^{T}$ for each pair of matrices $A, B \\in \\mathbb{R}^{n \\times m}$ (Error here, $A$ and $B$ do not have applicable dimentions for multiplication)"
   ]
  },
  {
   "cell_type": "markdown",
   "metadata": {},
   "source": [
    "#### Proof\n",
    "- Let $A \\in \\mathbb{R}^{m \\times n}$ and $B \\in \\mathbb{R}^{n \\times p}$\n",
    "- Then $AB \\in \\mathbb{R}^{m \\times p}$ and $(AB)^T \\in \\mathbb{R}^{p \\times m}$\n",
    "- From definition of matrix product, $\\forall i \\in [1 \\cdots m], j \\in [1 \\cdots p]: c_{ij} = \\sum_{k=1}^{n} a_{ik} \\cdot b_{kj}$\n",
    "- Therefore $(AB)^T = \\forall j \\in [1 \\cdots p], i \\in [1 \\cdots m]: r_{ji} = \\sum_{k=1}^{n} a_{ik} \\cdot b_{kj}$\n",
    "- Now consider $B^T A^T =  \\forall j \\in [1 \\cdots p], i \\in [1 \\cdots m]: s_{ji} = \\sum_{k=1}^{n} b_{kj} \\cdot a_{ik}$\n",
    "- But $b_{kj} \\cdot a_{ik} = a_{ik} \\cdot b_{kj}$.\n",
    "- Therefore the two expressions are equal.\n"
   ]
  },
  {
   "cell_type": "markdown",
   "metadata": {},
   "source": [
    "## Functions on tensors"
   ]
  },
  {
   "cell_type": "markdown",
   "metadata": {},
   "source": [
    "#### Write combination for $XOR$ calculation"
   ]
  },
  {
   "cell_type": "code",
   "execution_count": null,
   "metadata": {},
   "outputs": [],
   "source": []
  }
 ],
 "metadata": {
  "kernelspec": {
   "display_name": "Python 3",
   "language": "python",
   "name": "python3"
  },
  "language_info": {
   "codemirror_mode": {
    "name": "ipython",
    "version": 3
   },
   "file_extension": ".py",
   "mimetype": "text/x-python",
   "name": "python",
   "nbconvert_exporter": "python",
   "pygments_lexer": "ipython3",
   "version": "3.7.4"
  }
 },
 "nbformat": 4,
 "nbformat_minor": 4
}
